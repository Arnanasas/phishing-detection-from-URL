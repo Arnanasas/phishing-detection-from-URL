{
  "nbformat": 4,
  "nbformat_minor": 0,
  "metadata": {
    "colab": {
      "provenance": []
    },
    "kernelspec": {
      "name": "python3",
      "display_name": "Python 3"
    },
    "language_info": {
      "name": "python"
    }
  },
  "cells": [
    {
      "cell_type": "code",
      "execution_count": 1,
      "metadata": {
        "id": "zWywKl2OF8Ri"
      },
      "outputs": [],
      "source": [
        "import pandas as pd\n",
        "\n",
        "# Load the dataset\n",
        "df = pd.read_csv('./drive/MyDrive/duomenys/url_features_dataset-1.csv')\n"
      ]
    },
    {
      "cell_type": "code",
      "source": [
        "# Summary of dataset data\n",
        "print(df.describe())\n",
        "\n"
      ],
      "metadata": {
        "colab": {
          "base_uri": "https://localhost:8080/"
        },
        "id": "ptIGsvWsGgko",
        "outputId": "95830d4a-440e-4b73-de05-95ed649d583d"
      },
      "execution_count": 2,
      "outputs": [
        {
          "output_type": "stream",
          "name": "stdout",
          "text": [
            "         url_length     use_https  domain_length  num_subdomains  \\\n",
            "count  72000.000000  72000.000000   72000.000000    72000.000000   \n",
            "mean      69.014750      0.192292      18.390083        0.754319   \n",
            "std       52.694647      0.394104       6.778338        0.701938   \n",
            "min        9.000000      0.000000       0.000000        0.000000   \n",
            "25%       43.000000      0.000000      14.000000        0.000000   \n",
            "50%       56.000000      0.000000      17.000000        1.000000   \n",
            "75%       76.000000      0.000000      21.000000        1.000000   \n",
            "max     3992.000000      1.000000     237.000000       23.000000   \n",
            "\n",
            "        path_length        use_ip   count_slash     count_dot  \\\n",
            "count  72000.000000  72000.000000  72000.000000  72000.000000   \n",
            "mean      33.045083      0.002500      5.144792      2.552736   \n",
            "std       24.196920      0.049938      1.821145      1.938862   \n",
            "min        0.000000      0.000000      0.000000      1.000000   \n",
            "25%       17.000000      0.000000      4.000000      2.000000   \n",
            "50%       28.000000      0.000000      5.000000      2.000000   \n",
            "75%       43.000000      0.000000      6.000000      3.000000   \n",
            "max      319.000000      1.000000     34.000000     34.000000   \n",
            "\n",
            "       count_ampersand      count_at  count_dash  count_equals  \\\n",
            "count     72000.000000  72000.000000     72000.0  72000.000000   \n",
            "mean          0.255278      0.028514         0.0      0.325931   \n",
            "std           1.387303      0.168757         0.0      1.233828   \n",
            "min           0.000000      0.000000         0.0      0.000000   \n",
            "25%           0.000000      0.000000         0.0      0.000000   \n",
            "50%           0.000000      0.000000         0.0      0.000000   \n",
            "75%           0.000000      0.000000         0.0      0.000000   \n",
            "max          15.000000      3.000000         0.0     13.000000   \n",
            "\n",
            "       count_question  count_semicolon  count_digits         label  \n",
            "count    72000.000000     72000.000000  72000.000000  72000.000000  \n",
            "mean         0.151986         0.201319      5.337403      0.500000  \n",
            "std          0.483650         1.227228     13.782557      0.500003  \n",
            "min          0.000000         0.000000      0.000000      0.000000  \n",
            "25%          0.000000         0.000000      0.000000      0.000000  \n",
            "50%          0.000000         0.000000      0.000000      0.500000  \n",
            "75%          0.000000         0.000000      4.000000      1.000000  \n",
            "max         57.000000        27.000000    564.000000      1.000000  \n"
          ]
        }
      ]
    },
    {
      "cell_type": "code",
      "source": [
        "from sklearn.model_selection import train_test_split\n",
        "\n",
        "X = df.drop('label', axis=1)\n",
        "y = df['label']\n",
        "\n",
        "# Split train / test data\n",
        "X_train, X_test, y_train, y_test = train_test_split(X, y, test_size=0.2, random_state=42)\n"
      ],
      "metadata": {
        "id": "cT0W35fNGs5a"
      },
      "execution_count": 3,
      "outputs": []
    },
    {
      "cell_type": "code",
      "source": [
        "from sklearn.linear_model import LogisticRegression\n",
        "\n",
        "# Load Logistic Regression model, train with data\n",
        "\n",
        "model = LogisticRegression()\n",
        "model.fit(X_train, y_train)\n"
      ],
      "metadata": {
        "colab": {
          "base_uri": "https://localhost:8080/",
          "height": 242
        },
        "id": "WYfR5KcZGw5I",
        "outputId": "315d3ac7-5036-44a4-dc70-1206d0ad4ee0"
      },
      "execution_count": 4,
      "outputs": [
        {
          "output_type": "stream",
          "name": "stderr",
          "text": [
            "/usr/local/lib/python3.10/dist-packages/sklearn/linear_model/_logistic.py:458: ConvergenceWarning: lbfgs failed to converge (status=1):\n",
            "STOP: TOTAL NO. of ITERATIONS REACHED LIMIT.\n",
            "\n",
            "Increase the number of iterations (max_iter) or scale the data as shown in:\n",
            "    https://scikit-learn.org/stable/modules/preprocessing.html\n",
            "Please also refer to the documentation for alternative solver options:\n",
            "    https://scikit-learn.org/stable/modules/linear_model.html#logistic-regression\n",
            "  n_iter_i = _check_optimize_result(\n"
          ]
        },
        {
          "output_type": "execute_result",
          "data": {
            "text/plain": [
              "LogisticRegression()"
            ],
            "text/html": [
              "<style>#sk-container-id-1 {color: black;background-color: white;}#sk-container-id-1 pre{padding: 0;}#sk-container-id-1 div.sk-toggleable {background-color: white;}#sk-container-id-1 label.sk-toggleable__label {cursor: pointer;display: block;width: 100%;margin-bottom: 0;padding: 0.3em;box-sizing: border-box;text-align: center;}#sk-container-id-1 label.sk-toggleable__label-arrow:before {content: \"▸\";float: left;margin-right: 0.25em;color: #696969;}#sk-container-id-1 label.sk-toggleable__label-arrow:hover:before {color: black;}#sk-container-id-1 div.sk-estimator:hover label.sk-toggleable__label-arrow:before {color: black;}#sk-container-id-1 div.sk-toggleable__content {max-height: 0;max-width: 0;overflow: hidden;text-align: left;background-color: #f0f8ff;}#sk-container-id-1 div.sk-toggleable__content pre {margin: 0.2em;color: black;border-radius: 0.25em;background-color: #f0f8ff;}#sk-container-id-1 input.sk-toggleable__control:checked~div.sk-toggleable__content {max-height: 200px;max-width: 100%;overflow: auto;}#sk-container-id-1 input.sk-toggleable__control:checked~label.sk-toggleable__label-arrow:before {content: \"▾\";}#sk-container-id-1 div.sk-estimator input.sk-toggleable__control:checked~label.sk-toggleable__label {background-color: #d4ebff;}#sk-container-id-1 div.sk-label input.sk-toggleable__control:checked~label.sk-toggleable__label {background-color: #d4ebff;}#sk-container-id-1 input.sk-hidden--visually {border: 0;clip: rect(1px 1px 1px 1px);clip: rect(1px, 1px, 1px, 1px);height: 1px;margin: -1px;overflow: hidden;padding: 0;position: absolute;width: 1px;}#sk-container-id-1 div.sk-estimator {font-family: monospace;background-color: #f0f8ff;border: 1px dotted black;border-radius: 0.25em;box-sizing: border-box;margin-bottom: 0.5em;}#sk-container-id-1 div.sk-estimator:hover {background-color: #d4ebff;}#sk-container-id-1 div.sk-parallel-item::after {content: \"\";width: 100%;border-bottom: 1px solid gray;flex-grow: 1;}#sk-container-id-1 div.sk-label:hover label.sk-toggleable__label {background-color: #d4ebff;}#sk-container-id-1 div.sk-serial::before {content: \"\";position: absolute;border-left: 1px solid gray;box-sizing: border-box;top: 0;bottom: 0;left: 50%;z-index: 0;}#sk-container-id-1 div.sk-serial {display: flex;flex-direction: column;align-items: center;background-color: white;padding-right: 0.2em;padding-left: 0.2em;position: relative;}#sk-container-id-1 div.sk-item {position: relative;z-index: 1;}#sk-container-id-1 div.sk-parallel {display: flex;align-items: stretch;justify-content: center;background-color: white;position: relative;}#sk-container-id-1 div.sk-item::before, #sk-container-id-1 div.sk-parallel-item::before {content: \"\";position: absolute;border-left: 1px solid gray;box-sizing: border-box;top: 0;bottom: 0;left: 50%;z-index: -1;}#sk-container-id-1 div.sk-parallel-item {display: flex;flex-direction: column;z-index: 1;position: relative;background-color: white;}#sk-container-id-1 div.sk-parallel-item:first-child::after {align-self: flex-end;width: 50%;}#sk-container-id-1 div.sk-parallel-item:last-child::after {align-self: flex-start;width: 50%;}#sk-container-id-1 div.sk-parallel-item:only-child::after {width: 0;}#sk-container-id-1 div.sk-dashed-wrapped {border: 1px dashed gray;margin: 0 0.4em 0.5em 0.4em;box-sizing: border-box;padding-bottom: 0.4em;background-color: white;}#sk-container-id-1 div.sk-label label {font-family: monospace;font-weight: bold;display: inline-block;line-height: 1.2em;}#sk-container-id-1 div.sk-label-container {text-align: center;}#sk-container-id-1 div.sk-container {/* jupyter's `normalize.less` sets `[hidden] { display: none; }` but bootstrap.min.css set `[hidden] { display: none !important; }` so we also need the `!important` here to be able to override the default hidden behavior on the sphinx rendered scikit-learn.org. See: https://github.com/scikit-learn/scikit-learn/issues/21755 */display: inline-block !important;position: relative;}#sk-container-id-1 div.sk-text-repr-fallback {display: none;}</style><div id=\"sk-container-id-1\" class=\"sk-top-container\"><div class=\"sk-text-repr-fallback\"><pre>LogisticRegression()</pre><b>In a Jupyter environment, please rerun this cell to show the HTML representation or trust the notebook. <br />On GitHub, the HTML representation is unable to render, please try loading this page with nbviewer.org.</b></div><div class=\"sk-container\" hidden><div class=\"sk-item\"><div class=\"sk-estimator sk-toggleable\"><input class=\"sk-toggleable__control sk-hidden--visually\" id=\"sk-estimator-id-1\" type=\"checkbox\" checked><label for=\"sk-estimator-id-1\" class=\"sk-toggleable__label sk-toggleable__label-arrow\">LogisticRegression</label><div class=\"sk-toggleable__content\"><pre>LogisticRegression()</pre></div></div></div></div></div>"
            ]
          },
          "metadata": {},
          "execution_count": 4
        }
      ]
    },
    {
      "cell_type": "code",
      "source": [
        "from sklearn.metrics import accuracy_score, classification_report, confusion_matrix\n",
        "predictions = model.predict(X_test)\n",
        "print(f\"Accuracy: {accuracy_score(y_test, predictions)}\")\n",
        "\n",
        "\n",
        "print(classification_report(y_test, predictions))\n",
        "print(confusion_matrix(y_test, predictions))\n"
      ],
      "metadata": {
        "id": "NDmzTIWnGyGg",
        "outputId": "cb2b4070-f686-47b9-e72b-6629fb4d5179",
        "colab": {
          "base_uri": "https://localhost:8080/"
        }
      },
      "execution_count": 5,
      "outputs": [
        {
          "output_type": "stream",
          "name": "stdout",
          "text": [
            "Accuracy: 0.8458333333333333\n",
            "              precision    recall  f1-score   support\n",
            "\n",
            "           0       0.87      0.82      0.84      7215\n",
            "           1       0.83      0.87      0.85      7185\n",
            "\n",
            "    accuracy                           0.85     14400\n",
            "   macro avg       0.85      0.85      0.85     14400\n",
            "weighted avg       0.85      0.85      0.85     14400\n",
            "\n",
            "[[5912 1303]\n",
            " [ 917 6268]]\n"
          ]
        }
      ]
    }
  ]
}